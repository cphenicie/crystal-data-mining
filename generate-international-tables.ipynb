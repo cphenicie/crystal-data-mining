{
 "cells": [
  {
   "cell_type": "code",
   "execution_count": 5,
   "metadata": {},
   "outputs": [],
   "source": [
    "from selenium import webdriver\n",
    "from selenium.webdriver.firefox.firefox_binary import FirefoxBinary\n",
    "import re\n",
    "import numpy as np\n",
    "import scipy as sp\n",
    "import scipy.io\n",
    "import os\n",
    "import pickle\n",
    "import pandas as pd\n",
    "from itertools import permutations\n",
    "import urllib.request\n",
    "import pymatgen as mg\n",
    "import tqdm"
   ]
  },
  {
   "cell_type": "markdown",
   "metadata": {
    "heading_collapsed": true
   },
   "source": [
    "# Download the international tables"
   ]
  },
  {
   "cell_type": "code",
   "execution_count": 6,
   "metadata": {
    "hidden": true
   },
   "outputs": [],
   "source": [
    "# Had to download geckodriver from https://github.com/mozilla/geckodriver/releases\n",
    "# Moved it to a known location, and put that location in PATH\n",
    "# Still had problems, so pointed selenium to the correct firefox executable\n",
    "# Works!\n",
    "binary = FirefoxBinary(r'C:\\Program Files\\Mozilla Firefox\\firefox.exe')\n",
    "driver = webdriver.Firefox(firefox_binary=binary)"
   ]
  },
  {
   "cell_type": "code",
   "execution_count": 7,
   "metadata": {
    "hidden": true
   },
   "outputs": [
    {
     "name": "stderr",
     "output_type": "stream",
     "text": [
      "100%|████████████████████████████████████████████████████████████████████████████████| 230/230 [06:11<00:00,  2.23s/it]\n"
     ]
    }
   ],
   "source": [
    "ngroups = 230\n",
    "international_tables = [{} for _ in range(ngroups+1)] # We will index this by the actual number in the list\n",
    "\n",
    "for igroup in tqdm.tqdm(range(1, ngroups+1)):\n",
    "    \n",
    "    # Pull up the page corresponding to the group number\n",
    "    driver.get('http://www.cryst.ehu.es/cgi-bin/cryst/programs/nph-wp-list') # Waits for page to load\n",
    "    \n",
    "    text_box = driver.find_element_by_name('gnum') # Found empirically\n",
    "    text_box.clear() # Clear in case there's any text still there\n",
    "    text_box.send_keys('%i' %igroup)\n",
    "    standard_button = driver.find_element_by_name('standard')\n",
    "    standard_button.click()\n",
    "    \n",
    "    # Extract information from the page\n",
    "    heading1 = driver.find_element_by_tag_name('h2') # Found empirically\n",
    "    head = heading1.text\n",
    "    hm_name = re.search('Group (.+?) \\(', head).group(1)\n",
    "    table = driver.find_elements_by_tag_name('table')[1] # Second table on the page, found empirically\n",
    "    table_text = table.text\n",
    "    \n",
    "    # Parse the information from the table\n",
    "    table_lines = table_text.split('\\n')\n",
    "    r = re.compile(\"^[0-9]+\") # Find the elements that begin with a number (which is Wycoff multiplicity)\n",
    "    newlist = list(filter(r.match, table_lines)) # Read Note\n",
    "    split_list = np.array([element.split(\" \", 2) for element in newlist]) # Split into 3 groups of str\n",
    "    \n",
    "    row_names = [\"multiplicity\", \"letter\", \"symmetry\"]\n",
    "    international_tables[igroup]['name'] = hm_name\n",
    "    international_tables[igroup]['wyckoff table'] = {name: split_list[:,i] for i, name in enumerate(row_names)}\n",
    "    \n",
    "path = os.getcwd()\n",
    "file_name = \"international_tables.pickle\"\n",
    "with open(os.path.join(path, file_name), 'wb') as f:\n",
    "        pickle.dump(international_tables, f, pickle.HIGHEST_PROTOCOL)"
   ]
  },
  {
   "cell_type": "code",
   "execution_count": 8,
   "metadata": {
    "hidden": true
   },
   "outputs": [
    {
     "data": {
      "text/plain": [
       "{'multiplicity': array(['16', '8', '8', '8', '4', '4', '4', '4', '4', '2', '2'],\n",
       "       dtype='<U5'),\n",
       " 'letter': array(['k', 'j', 'i', 'h', 'g', 'f', 'e', 'd', 'c', 'b', 'a'], dtype='<U5'),\n",
       " 'symmetry': array(['1', '..m', 'm..', '2..', 'm.2 m', 'm.2 m', '2.m m', '-4..',\n",
       "        '2/m..', 'm.m m', 'm.m m'], dtype='<U5')}"
      ]
     },
     "execution_count": 8,
     "metadata": {},
     "output_type": "execute_result"
    }
   ],
   "source": [
    "international_tables[136]['wyckoff table']"
   ]
  },
  {
   "cell_type": "code",
   "execution_count": 9,
   "metadata": {
    "hidden": true
   },
   "outputs": [],
   "source": [
    "international_dict = {str(i): entry for i, entry in enumerate(international_tables) if i>0}"
   ]
  },
  {
   "cell_type": "code",
   "execution_count": null,
   "metadata": {},
   "outputs": [],
   "source": []
  }
 ],
 "metadata": {
  "kernelspec": {
   "display_name": "Python [conda env:root] *",
   "language": "python",
   "name": "conda-root-py"
  },
  "language_info": {
   "codemirror_mode": {
    "name": "ipython",
    "version": 3
   },
   "file_extension": ".py",
   "mimetype": "text/x-python",
   "name": "python",
   "nbconvert_exporter": "python",
   "pygments_lexer": "ipython3",
   "version": "3.6.4"
  }
 },
 "nbformat": 4,
 "nbformat_minor": 4
}
